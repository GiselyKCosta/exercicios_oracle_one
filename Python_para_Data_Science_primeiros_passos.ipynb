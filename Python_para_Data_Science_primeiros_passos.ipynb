{
  "nbformat": 4,
  "nbformat_minor": 0,
  "metadata": {
    "colab": {
      "provenance": [],
      "toc_visible": true,
      "authorship_tag": "ABX9TyPk4YPUvauhROGzX1jktB8c",
      "include_colab_link": true
    },
    "kernelspec": {
      "name": "python3",
      "display_name": "Python 3"
    },
    "language_info": {
      "name": "python"
    }
  },
  "cells": [
    {
      "cell_type": "markdown",
      "metadata": {
        "id": "view-in-github",
        "colab_type": "text"
      },
      "source": [
        "<a href=\"https://colab.research.google.com/github/GiselyKCosta/exercicios_oracle_one/blob/main/Python_para_Data_Science_primeiros_passos.ipynb\" target=\"_parent\"><img src=\"https://colab.research.google.com/assets/colab-badge.svg\" alt=\"Open In Colab\"/></a>"
      ]
    },
    {
      "cell_type": "markdown",
      "source": [
        "# Hora da prática - Alura - ONE"
      ],
      "metadata": {
        "id": "wuj7l7Ov-HyH"
      }
    },
    {
      "cell_type": "markdown",
      "source": [
        "## Python para Data Science: primeiros passos"
      ],
      "metadata": {
        "id": "gqZxT2oHC6WU"
      }
    },
    {
      "cell_type": "markdown",
      "source": [
        "### Manipulando dados no python"
      ],
      "metadata": {
        "id": "c-wacxYIECjc"
      }
    },
    {
      "cell_type": "markdown",
      "source": [
        "  #### Coleta e amostragem de dados"
      ],
      "metadata": {
        "id": "YBimOzDIAKrs"
      }
    },
    {
      "cell_type": "markdown",
      "source": [
        "Crie um programa que solicite à pessoa usuária digitar seu nome, e imprima “Olá, [nome]!”.\n",
        "\n"
      ],
      "metadata": {
        "id": "i6Ybb1Cg-Wbn"
      }
    },
    {
      "cell_type": "code",
      "execution_count": null,
      "metadata": {
        "id": "9npgqocj-HNS"
      },
      "outputs": [],
      "source": [
        "nome = input('Qual o seu nome? ')\n",
        "print(f'Olá {nome}')"
      ]
    },
    {
      "cell_type": "markdown",
      "source": [
        "Crie um programa que solicite à pessoa usuária digitar seu nome e idade, e imprima “Olá, [nome], você tem [idade] anos.”."
      ],
      "metadata": {
        "id": "AP_B8fCW-uCw"
      }
    },
    {
      "cell_type": "code",
      "source": [
        "nome = input('Qual o seu nome? ')\n",
        "idade = input('Qual a sua idade? ')\n",
        "print(f'Olá {nome}, você tem {idade} anos.')"
      ],
      "metadata": {
        "id": "1HG5Frj0-v4A"
      },
      "execution_count": null,
      "outputs": []
    },
    {
      "cell_type": "markdown",
      "source": [
        "Crie um programa que solicite à pessoa usuária digitar seu nome, idade e altura em metros, e imprima “Olá, [nome], você tem [idade] anos e mede [altura] metros!”."
      ],
      "metadata": {
        "id": "KPQoCXYD_FAw"
      }
    },
    {
      "cell_type": "code",
      "source": [
        "nome = input('Qual o seu nome? ')\n",
        "idade = input('Qual a sua idade? ')\n",
        "altura = input('Qual a sua altura em metros? ')\n",
        "print(f'Olá {nome}, você tem {idade} anos e mede {altura} metros!')"
      ],
      "metadata": {
        "id": "PqsoiYOr_EnY"
      },
      "execution_count": null,
      "outputs": []
    },
    {
      "cell_type": "markdown",
      "source": [
        "#### Calculadora com operadores"
      ],
      "metadata": {
        "id": "E21i_dqg_yvt"
      }
    },
    {
      "cell_type": "markdown",
      "source": [
        "Crie um programa que solicite dois valores numéricos à pessoa usuária e imprima a soma dos dois valores."
      ],
      "metadata": {
        "id": "offhJ03zASFm"
      }
    },
    {
      "cell_type": "code",
      "source": [
        "n1 = int(input('Digite o primeiro número:'))\n",
        "n2 = int(input('Digite o segundo número:'))\n",
        "print(n1+n2)"
      ],
      "metadata": {
        "id": "HoheVr7B_7Hk"
      },
      "execution_count": null,
      "outputs": []
    },
    {
      "cell_type": "markdown",
      "source": [
        "Crie um programa que solicite três valores numéricos à pessoa usuária e imprima a soma dos três valores."
      ],
      "metadata": {
        "id": "lVcetbEpAjPA"
      }
    },
    {
      "cell_type": "code",
      "source": [
        "n1 = int(input('Digite o primeiro número:'))\n",
        "n2 = int(input('Digite o segundo número:'))\n",
        "n3 = int(input('Digite o segundo número:'))\n",
        "print(n1+n2+n3)"
      ],
      "metadata": {
        "id": "uZRuVU2NAlOV"
      },
      "execution_count": null,
      "outputs": []
    },
    {
      "cell_type": "markdown",
      "source": [
        "Crie um programa que solicite dois valores numéricos à pessoa usuária e imprima a subtração do primeiro pelo o segundo valor."
      ],
      "metadata": {
        "id": "GKwciPi2AsCl"
      }
    },
    {
      "cell_type": "code",
      "source": [
        "n1 = int(input('Digite o primeiro número:'))\n",
        "n2 = int(input('Digite o segundo número:'))\n",
        "print(n1-n2)"
      ],
      "metadata": {
        "id": "-8wJgSTiAuhZ"
      },
      "execution_count": null,
      "outputs": []
    },
    {
      "cell_type": "markdown",
      "source": [
        "Crie um programa que solicite dois valores numéricos à pessoa usuária e imprima a multiplicação dos dois valores."
      ],
      "metadata": {
        "id": "pB_vyeuUA2u9"
      }
    },
    {
      "cell_type": "code",
      "source": [
        "n1 = int(input('Digite o primeiro número:'))\n",
        "n2 = int(input('Digite o segundo número:'))\n",
        "print(n1*n2)"
      ],
      "metadata": {
        "id": "YDVPhvZ9A0FI"
      },
      "execution_count": null,
      "outputs": []
    },
    {
      "cell_type": "markdown",
      "source": [
        "Crie um programa que solicite dois valores numéricos, um numerador e um denominador, e realize a divisão entre os dois valores. Deixe claro que o valor do denominador não pode ser 0."
      ],
      "metadata": {
        "id": "3Xo439hTA6pi"
      }
    },
    {
      "cell_type": "code",
      "source": [
        "n1 = float(input('Digite o primeiro número:'))\n",
        "n2 = float(input('Digite o segundo número (diferente de zero):'))\n",
        "print(n1/n2)"
      ],
      "metadata": {
        "id": "sKDrQclKA8CZ"
      },
      "execution_count": null,
      "outputs": []
    },
    {
      "cell_type": "markdown",
      "source": [
        "Crie um programa que solicite dois valores numéricos, um operador e uma potência, e realize a exponenciação entre esses dois valores."
      ],
      "metadata": {
        "id": "MB-S4V0iBMMo"
      }
    },
    {
      "cell_type": "code",
      "source": [
        "n1 = int(input('Digite o primeiro número:'))\n",
        "n2 = int(input('Digite o segundo número:'))\n",
        "print(n1**n2)"
      ],
      "metadata": {
        "id": "J1RwSAXLBOn_"
      },
      "execution_count": null,
      "outputs": []
    },
    {
      "cell_type": "markdown",
      "source": [
        "Crie um código que solicita 3 notas de um estudante e imprima a média das notas."
      ],
      "metadata": {
        "id": "kb5Bv5MyBYXQ"
      }
    },
    {
      "cell_type": "code",
      "source": [
        "n1 = float(input('Digite a primeira nota:'))\n",
        "n2 = float(input('Digite a segunda nota:'))\n",
        "n3 = float(input('Digite a terceira nota:'))\n",
        "print((n1+n2+n3)/3)"
      ],
      "metadata": {
        "id": "KyiuwsN7BZBk"
      },
      "execution_count": null,
      "outputs": []
    },
    {
      "cell_type": "markdown",
      "source": [
        "Crie um código que calcule e imprima a média ponderada dos números 5, 12, 20 e 15 com pesos respectivamente iguais a 1, 2, 3 e 4."
      ],
      "metadata": {
        "id": "Wj2SlNPbBw15"
      }
    },
    {
      "cell_type": "code",
      "source": [
        "media = (5*1+12*2+20*3+15*4)/(10)\n",
        "media"
      ],
      "metadata": {
        "id": "O2_OsXkKBzEF"
      },
      "execution_count": null,
      "outputs": []
    },
    {
      "cell_type": "markdown",
      "source": [
        "#### Editando textos"
      ],
      "metadata": {
        "id": "-ET42cauCNKx"
      }
    },
    {
      "cell_type": "markdown",
      "source": [
        "Crie uma variável chamada “frase” e atribua a ela uma string de sua escolha. Em seguida, imprima a frase na tela."
      ],
      "metadata": {
        "id": "PJ60cMU3CSLm"
      }
    },
    {
      "cell_type": "code",
      "source": [
        "frase = 'The blood of the covenant is thicker than the water of the womb'\n",
        "print(frase)"
      ],
      "metadata": {
        "id": "NyT-nenJCQH0"
      },
      "execution_count": null,
      "outputs": []
    },
    {
      "cell_type": "markdown",
      "source": [
        "Crie um código que solicite uma frase e depois imprima a frase na tela."
      ],
      "metadata": {
        "id": "ba93TEhCCmhF"
      }
    },
    {
      "cell_type": "code",
      "source": [
        "frase = input('Digite uma frase: ')\n",
        "print(frase)"
      ],
      "metadata": {
        "id": "mYMmn21BCm_E"
      },
      "execution_count": null,
      "outputs": []
    },
    {
      "cell_type": "markdown",
      "source": [
        "Crie um código que solicite uma frase à pessoa usuária e imprima a mesma frase digitada mas com todas as letras maiúsculas."
      ],
      "metadata": {
        "id": "Yydht9m2Cxhw"
      }
    },
    {
      "cell_type": "code",
      "source": [
        "frase = input('Digite uma frase: ').upper()\n",
        "print(frase)"
      ],
      "metadata": {
        "id": "ny-phT1eCyzB"
      },
      "execution_count": null,
      "outputs": []
    },
    {
      "cell_type": "markdown",
      "source": [
        "Crie um código que solicite uma frase à pessoa usuária e imprima a mesma frase digitada mas com todas as letras minúsculas."
      ],
      "metadata": {
        "id": "RHbAS6t2C8NB"
      }
    },
    {
      "cell_type": "code",
      "source": [
        "frase = input('Digite uma frase: ').lower()\n",
        "print(frase)"
      ],
      "metadata": {
        "id": "pH6UGMAWC9ez"
      },
      "execution_count": null,
      "outputs": []
    },
    {
      "cell_type": "markdown",
      "source": [
        "Crie uma variável chamada “frase” e atribua a ela uma string de sua escolha. Em seguida, imprima a frase sem espaços em branco no início e no fim."
      ],
      "metadata": {
        "id": "lpC2n05MDDXq"
      }
    },
    {
      "cell_type": "code",
      "source": [
        "frase = '   The blood of the covenant is thicker than the water of the womb'\n",
        "frase.strip()\n",
        "print(frase)"
      ],
      "metadata": {
        "id": "yfleBP1wDD2I"
      },
      "execution_count": null,
      "outputs": []
    },
    {
      "cell_type": "markdown",
      "source": [
        "Crie um código que solicite uma frase à pessoa usuária e imprima a mesma frase sem espaços em branco no início e no fim."
      ],
      "metadata": {
        "id": "82r0NNCIDUh1"
      }
    },
    {
      "cell_type": "code",
      "source": [
        "frase = input('Digite uma frase: ').strip()\n",
        "print(frase)"
      ],
      "metadata": {
        "id": "wXVDSDtcDXL_"
      },
      "execution_count": null,
      "outputs": []
    },
    {
      "cell_type": "markdown",
      "source": [
        "Crie um código que solicite uma frase à pessoa usuária e imprima a mesma frase com todas as vogais “e” trocadas pela letra “f”."
      ],
      "metadata": {
        "id": "22Ss53prDcb5"
      }
    },
    {
      "cell_type": "code",
      "source": [
        "frase = input('Digite uma frase: ').replace('e', 'f')\n",
        "print(frase)"
      ],
      "metadata": {
        "id": "0RstAv0HDb81"
      },
      "execution_count": null,
      "outputs": []
    },
    {
      "cell_type": "markdown",
      "source": [
        "Crie um código que solicite uma frase à pessoa usuária e imprima a mesma frase com todas as vogais “a” trocadas pela caractere “@”."
      ],
      "metadata": {
        "id": "EQaIY9R3DhJI"
      }
    },
    {
      "cell_type": "code",
      "source": [
        "frase = input('Digite uma frase: ').replace('a', '@')\n",
        "print(frase)"
      ],
      "metadata": {
        "id": "xCTNl2VYDupr"
      },
      "execution_count": null,
      "outputs": []
    },
    {
      "cell_type": "markdown",
      "source": [
        "Crie um código que solicite uma frase à pessoa usuária e imprima a mesma frase com todas as consoantes “s” trocadas pelo caractere “$”."
      ],
      "metadata": {
        "id": "Wc40EINrDqWg"
      }
    },
    {
      "cell_type": "code",
      "source": [
        "frase = input('Digite uma frase: ').replace('s', '$')\n",
        "print(frase)"
      ],
      "metadata": {
        "id": "UsC2Z0uSD08m"
      },
      "execution_count": null,
      "outputs": []
    },
    {
      "cell_type": "markdown",
      "source": [
        "#### Estruturas condicionais"
      ],
      "metadata": {
        "id": "uW4e8bsaseNI"
      }
    },
    {
      "cell_type": "markdown",
      "source": [
        " Escreva um programa que peça à pessoa usuária para fornecer dois números e exibir o número maior."
      ],
      "metadata": {
        "id": "wJtJtV7OshRd"
      }
    },
    {
      "cell_type": "code",
      "source": [
        "num_1 = input('Digite o primeiro numero: ')\n",
        "num_2 = input('Digite o segundo numero: ')\n",
        "\n",
        "if num_1 < num_2:\n",
        "  print (num_1)\n",
        "else:\n",
        "  print(num_2)"
      ],
      "metadata": {
        "id": "9-bxYhlpsgnk"
      },
      "execution_count": null,
      "outputs": []
    },
    {
      "cell_type": "markdown",
      "source": [
        "Escreva um programa que solicite o percentual de crescimento de produção de uma empresa e informe se houve um crescimento (porcentagem positiva) ou decrescimento (porcentagem negativa)."
      ],
      "metadata": {
        "id": "1EHrgd5LtHGV"
      }
    },
    {
      "cell_type": "code",
      "source": [
        "per = float(input('Digite o percentual de produção da sua empresa: '))\n",
        "\n",
        "if per > 100:\n",
        "  print ('porcentagem positiva')\n",
        "else:\n",
        "  print('porcentagem negativa')"
      ],
      "metadata": {
        "id": "698iozHdtJEw"
      },
      "execution_count": null,
      "outputs": []
    },
    {
      "cell_type": "markdown",
      "source": [
        "Escreva um programa que determine se uma letra fornecida pela pessoa usuária é uma vogal ou consoante."
      ],
      "metadata": {
        "id": "x-Q0_txFtjrP"
      }
    },
    {
      "cell_type": "code",
      "source": [
        "letra = input('Digite uma letra: ')\n",
        "\n",
        "if letra.lower() in {'a', 'e', 'i', 'o', 'u'}:\n",
        "    print('Vogal')\n",
        "else:\n",
        "    print('Consoante')"
      ],
      "metadata": {
        "id": "5Ir4TV0Ntldy"
      },
      "execution_count": null,
      "outputs": []
    },
    {
      "cell_type": "markdown",
      "source": [
        "Escreva um programa que leia valores médios de preços de um modelo de carro por 3 anos consecutivos e exiba o valor mais alto e mais baixo entre esses três anos."
      ],
      "metadata": {
        "id": "ntOXThZZu5UN"
      }
    },
    {
      "cell_type": "code",
      "source": [
        "valor1 = float(input('Digite o primeiro valor: '))\n",
        "valor2 = float(input('Digite o segundo  valor: '))\n",
        "valor3 = float(input('Digite o terceiro valor: '))\n",
        "maior = 0\n",
        "if valor2 > valor1 and valor2 > valor3:\n",
        "  maior = valor2\n",
        "elif valor3 > valor1 and valor3 > valor2:\n",
        "  maior=valor3\n",
        "elif valor1 > valor3 and valor1 > valor2:\n",
        "  maior = valor1\n",
        "print(f'O maior valor é: {maior}')"
      ],
      "metadata": {
        "id": "5_RkY4Csu7KF"
      },
      "execution_count": null,
      "outputs": []
    },
    {
      "cell_type": "code",
      "source": [
        "valor1 = float(input('Digite o primeiro valor: '))\n",
        "valor2 = float(input('Digite o segundo valor: '))\n",
        "valor3 = float(input('Digite o terceiro valor: '))\n",
        "\n",
        "maior = valor1  # Assumimos que o primeiro é o maior inicialmente\n",
        "if valor2 > maior:\n",
        "    maior = valor2\n",
        "if valor3 > maior:\n",
        "    maior = valor3\n",
        "\n",
        "print(f'O maior valor é: {maior}')"
      ],
      "metadata": {
        "id": "E6plB__FxJRx"
      },
      "execution_count": null,
      "outputs": []
    },
    {
      "cell_type": "markdown",
      "source": [
        "Escreva um programa que pergunte sobre o preço de três produtos e indique qual é o produto mais barato para comprar."
      ],
      "metadata": {
        "id": "WNDYakkoxWAZ"
      }
    },
    {
      "cell_type": "code",
      "source": [
        "valor1 = float(input('Digite o primeiro valor: '))\n",
        "valor2 = float(input('Digite o segundo  valor: '))\n",
        "valor3 = float(input('Digite o terceiro valor: '))\n",
        "menor = 0\n",
        "if valor2 < valor1 and valor2 < valor3:\n",
        "  menor = valor2\n",
        "elif valor3 < valor1 and valor3 < valor2:\n",
        "  menor=valor3\n",
        "elif valor1 < valor3 and valor1 < valor2:\n",
        "  menor = valor1\n",
        "print(f'O menor valor é: {menor}')"
      ],
      "metadata": {
        "id": "_q8dF1INxZ6y"
      },
      "execution_count": null,
      "outputs": []
    },
    {
      "cell_type": "markdown",
      "source": [
        "Escreva um programa que leia três números e os exiba em ordem decrescente."
      ],
      "metadata": {
        "id": "PWSg55nuxseF"
      }
    },
    {
      "cell_type": "code",
      "source": [
        "valor1 = float(input('Digite o primeiro valor: '))\n",
        "valor2 = float(input('Digite o segundo valor: '))\n",
        "valor3 = float(input('Digite o terceiro valor: '))\n",
        "\n",
        "if valor1 >= valor2 >= valor3:\n",
        "    print(valor1, valor2, valor3)\n",
        "elif valor1 >= valor3 >= valor2:\n",
        "    print(valor1, valor3, valor2)\n",
        "elif valor2 >= valor1 >= valor3:\n",
        "    print(valor2, valor1, valor3)\n",
        "elif valor2 >= valor3 >= valor1:\n",
        "    print(valor2, valor3, valor1)\n",
        "elif valor3 >= valor1 >= valor2:\n",
        "    print(valor3, valor1, valor2)\n"
      ],
      "metadata": {
        "id": "DaQTqMqoxuYd"
      },
      "execution_count": null,
      "outputs": []
    },
    {
      "cell_type": "code",
      "source": [
        "valor1 = float(input('Digite o primeiro valor: '))\n",
        "valor2 = float(input('Digite o segundo valor: '))\n",
        "valor3 = float(input('Digite o terceiro valor: '))\n",
        "\n",
        "maior = max(valor1, valor2, valor3)\n",
        "menor = min(valor1, valor2, valor3)\n",
        "meio = (valor1 + valor2 + valor3) - maior - menor\n",
        "\n",
        "print(maior, meio, menor)"
      ],
      "metadata": {
        "id": "rngwrmOuzcHn"
      },
      "execution_count": null,
      "outputs": []
    },
    {
      "cell_type": "markdown",
      "source": [
        "Escreva um programa que pergunte em qual turno a pessoa usuária estuda (\"manhã\", \"tarde\" ou \"noite\") e exiba a mensagem \"Bom Dia!\", \"Boa Tarde!\", \"Boa Noite!\", ou \"Valor Inválido!\", conforme o caso."
      ],
      "metadata": {
        "id": "0fhpBCS-0jFQ"
      }
    },
    {
      "cell_type": "code",
      "source": [
        "turno = (input('Qual o seu turno? '))\n",
        "if turno.lower() == 'manhã':\n",
        "  print('Bom dia!')\n",
        "elif turno.lower() == 'tarde':\n",
        "  print('Boa tarde!')\n",
        "elif turno.lower() == 'noite':\n",
        "  print ('Boa noite')\n",
        "else:\n",
        "  print ('Valor Inválido!')"
      ],
      "metadata": {
        "id": "ykeflgq10ite"
      },
      "execution_count": null,
      "outputs": []
    },
    {
      "cell_type": "markdown",
      "source": [
        "Escreva um programa que peça um número inteiro à pessoa usuária e determine se ele é par ou ímpar. Dica: Você pode utilizar o operador módulo %."
      ],
      "metadata": {
        "id": "uKBXafRo1Udf"
      }
    },
    {
      "cell_type": "code",
      "source": [
        "num = int(input('Digite um numero: '))\n",
        "if num % 2 == 0:\n",
        "  print('Seu número é par!')\n",
        "else:\n",
        "  print('Seu número é ímpar')"
      ],
      "metadata": {
        "id": "ak_w2BNM1Uw7"
      },
      "execution_count": null,
      "outputs": []
    },
    {
      "cell_type": "markdown",
      "source": [
        "Escreva um programa que peça um número à pessoa usuária e informe se ele é inteiro ou decimal."
      ],
      "metadata": {
        "id": "ArfQnviR1tlD"
      }
    },
    {
      "cell_type": "code",
      "source": [
        "num = float(input('Digite um numero: '))\n",
        "if num % 1 == 0:\n",
        "  print('Seu número é inteiro!')\n",
        "else:\n",
        "  print('Seu número é decimal')"
      ],
      "metadata": {
        "id": "G6OTl-oP1uEQ"
      },
      "execution_count": null,
      "outputs": []
    }
  ]
}