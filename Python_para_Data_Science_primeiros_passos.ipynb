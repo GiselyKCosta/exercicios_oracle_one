{
  "nbformat": 4,
  "nbformat_minor": 0,
  "metadata": {
    "colab": {
      "provenance": [],
      "toc_visible": true,
      "authorship_tag": "ABX9TyN1tB+PF0y1vr/iG+bXB7rB",
      "include_colab_link": true
    },
    "kernelspec": {
      "name": "python3",
      "display_name": "Python 3"
    },
    "language_info": {
      "name": "python"
    }
  },
  "cells": [
    {
      "cell_type": "markdown",
      "metadata": {
        "id": "view-in-github",
        "colab_type": "text"
      },
      "source": [
        "<a href=\"https://colab.research.google.com/github/GiselyKCosta/exercicios_oracle_one/blob/main/Python_para_Data_Science_primeiros_passos.ipynb\" target=\"_parent\"><img src=\"https://colab.research.google.com/assets/colab-badge.svg\" alt=\"Open In Colab\"/></a>"
      ]
    },
    {
      "cell_type": "markdown",
      "source": [
        "# Hora da prática - Alura - ONE"
      ],
      "metadata": {
        "id": "wuj7l7Ov-HyH"
      }
    },
    {
      "cell_type": "markdown",
      "source": [
        "## Python para Data Science: primeiros passos"
      ],
      "metadata": {
        "id": "gqZxT2oHC6WU"
      }
    },
    {
      "cell_type": "markdown",
      "source": [
        "### Manipulando dados no python"
      ],
      "metadata": {
        "id": "c-wacxYIECjc"
      }
    },
    {
      "cell_type": "markdown",
      "source": [
        "  #### Coleta e amostragem de dados"
      ],
      "metadata": {
        "id": "YBimOzDIAKrs"
      }
    },
    {
      "cell_type": "markdown",
      "source": [
        "Crie um programa que solicite à pessoa usuária digitar seu nome, e imprima “Olá, [nome]!”.\n",
        "\n"
      ],
      "metadata": {
        "id": "i6Ybb1Cg-Wbn"
      }
    },
    {
      "cell_type": "code",
      "execution_count": null,
      "metadata": {
        "id": "9npgqocj-HNS"
      },
      "outputs": [],
      "source": [
        "nome = input('Qual o seu nome? ')\n",
        "print(f'Olá {nome}')"
      ]
    },
    {
      "cell_type": "markdown",
      "source": [
        "Crie um programa que solicite à pessoa usuária digitar seu nome e idade, e imprima “Olá, [nome], você tem [idade] anos.”."
      ],
      "metadata": {
        "id": "AP_B8fCW-uCw"
      }
    },
    {
      "cell_type": "code",
      "source": [
        "nome = input('Qual o seu nome? ')\n",
        "idade = input('Qual a sua idade? ')\n",
        "print(f'Olá {nome}, você tem {idade} anos.')"
      ],
      "metadata": {
        "id": "1HG5Frj0-v4A"
      },
      "execution_count": null,
      "outputs": []
    },
    {
      "cell_type": "markdown",
      "source": [
        "Crie um programa que solicite à pessoa usuária digitar seu nome, idade e altura em metros, e imprima “Olá, [nome], você tem [idade] anos e mede [altura] metros!”."
      ],
      "metadata": {
        "id": "KPQoCXYD_FAw"
      }
    },
    {
      "cell_type": "code",
      "source": [
        "nome = input('Qual o seu nome? ')\n",
        "idade = input('Qual a sua idade? ')\n",
        "altura = input('Qual a sua altura em metros? ')\n",
        "print(f'Olá {nome}, você tem {idade} anos e mede {altura} metros!')"
      ],
      "metadata": {
        "id": "PqsoiYOr_EnY"
      },
      "execution_count": null,
      "outputs": []
    },
    {
      "cell_type": "markdown",
      "source": [
        "#### Calculadora com operadores"
      ],
      "metadata": {
        "id": "E21i_dqg_yvt"
      }
    },
    {
      "cell_type": "markdown",
      "source": [
        "Crie um programa que solicite dois valores numéricos à pessoa usuária e imprima a soma dos dois valores."
      ],
      "metadata": {
        "id": "offhJ03zASFm"
      }
    },
    {
      "cell_type": "code",
      "source": [
        "n1 = int(input('Digite o primeiro número:'))\n",
        "n2 = int(input('Digite o segundo número:'))\n",
        "print(n1+n2)"
      ],
      "metadata": {
        "id": "HoheVr7B_7Hk"
      },
      "execution_count": null,
      "outputs": []
    },
    {
      "cell_type": "markdown",
      "source": [
        "Crie um programa que solicite três valores numéricos à pessoa usuária e imprima a soma dos três valores."
      ],
      "metadata": {
        "id": "lVcetbEpAjPA"
      }
    },
    {
      "cell_type": "code",
      "source": [
        "n1 = int(input('Digite o primeiro número:'))\n",
        "n2 = int(input('Digite o segundo número:'))\n",
        "n3 = int(input('Digite o segundo número:'))\n",
        "print(n1+n2+n3)"
      ],
      "metadata": {
        "id": "uZRuVU2NAlOV"
      },
      "execution_count": null,
      "outputs": []
    },
    {
      "cell_type": "markdown",
      "source": [
        "Crie um programa que solicite dois valores numéricos à pessoa usuária e imprima a subtração do primeiro pelo o segundo valor."
      ],
      "metadata": {
        "id": "GKwciPi2AsCl"
      }
    },
    {
      "cell_type": "code",
      "source": [
        "n1 = int(input('Digite o primeiro número:'))\n",
        "n2 = int(input('Digite o segundo número:'))\n",
        "print(n1-n2)"
      ],
      "metadata": {
        "id": "-8wJgSTiAuhZ"
      },
      "execution_count": null,
      "outputs": []
    },
    {
      "cell_type": "markdown",
      "source": [
        "Crie um programa que solicite dois valores numéricos à pessoa usuária e imprima a multiplicação dos dois valores."
      ],
      "metadata": {
        "id": "pB_vyeuUA2u9"
      }
    },
    {
      "cell_type": "code",
      "source": [
        "n1 = int(input('Digite o primeiro número:'))\n",
        "n2 = int(input('Digite o segundo número:'))\n",
        "print(n1*n2)"
      ],
      "metadata": {
        "id": "YDVPhvZ9A0FI"
      },
      "execution_count": null,
      "outputs": []
    },
    {
      "cell_type": "markdown",
      "source": [
        "Crie um programa que solicite dois valores numéricos, um numerador e um denominador, e realize a divisão entre os dois valores. Deixe claro que o valor do denominador não pode ser 0."
      ],
      "metadata": {
        "id": "3Xo439hTA6pi"
      }
    },
    {
      "cell_type": "code",
      "source": [
        "n1 = float(input('Digite o primeiro número:'))\n",
        "n2 = float(input('Digite o segundo número (diferente de zero):'))\n",
        "print(n1/n2)"
      ],
      "metadata": {
        "id": "sKDrQclKA8CZ"
      },
      "execution_count": null,
      "outputs": []
    },
    {
      "cell_type": "markdown",
      "source": [
        "Crie um programa que solicite dois valores numéricos, um operador e uma potência, e realize a exponenciação entre esses dois valores."
      ],
      "metadata": {
        "id": "MB-S4V0iBMMo"
      }
    },
    {
      "cell_type": "code",
      "source": [
        "n1 = int(input('Digite o primeiro número:'))\n",
        "n2 = int(input('Digite o segundo número:'))\n",
        "print(n1**n2)"
      ],
      "metadata": {
        "id": "J1RwSAXLBOn_"
      },
      "execution_count": null,
      "outputs": []
    },
    {
      "cell_type": "markdown",
      "source": [
        "Crie um código que solicita 3 notas de um estudante e imprima a média das notas."
      ],
      "metadata": {
        "id": "kb5Bv5MyBYXQ"
      }
    },
    {
      "cell_type": "code",
      "source": [
        "n1 = float(input('Digite a primeira nota:'))\n",
        "n2 = float(input('Digite a segunda nota:'))\n",
        "n3 = float(input('Digite a terceira nota:'))\n",
        "print((n1+n2+n3)/3)"
      ],
      "metadata": {
        "id": "KyiuwsN7BZBk"
      },
      "execution_count": null,
      "outputs": []
    },
    {
      "cell_type": "markdown",
      "source": [
        "Crie um código que calcule e imprima a média ponderada dos números 5, 12, 20 e 15 com pesos respectivamente iguais a 1, 2, 3 e 4."
      ],
      "metadata": {
        "id": "Wj2SlNPbBw15"
      }
    },
    {
      "cell_type": "code",
      "source": [
        "media = (5*1+12*2+20*3+15*4)/(10)\n",
        "media"
      ],
      "metadata": {
        "id": "O2_OsXkKBzEF"
      },
      "execution_count": null,
      "outputs": []
    },
    {
      "cell_type": "markdown",
      "source": [
        "#### Editando textos"
      ],
      "metadata": {
        "id": "-ET42cauCNKx"
      }
    },
    {
      "cell_type": "markdown",
      "source": [
        "Crie uma variável chamada “frase” e atribua a ela uma string de sua escolha. Em seguida, imprima a frase na tela."
      ],
      "metadata": {
        "id": "PJ60cMU3CSLm"
      }
    },
    {
      "cell_type": "code",
      "source": [
        "frase = 'The blood of the covenant is thicker than the water of the womb'\n",
        "print(frase)"
      ],
      "metadata": {
        "id": "NyT-nenJCQH0"
      },
      "execution_count": null,
      "outputs": []
    },
    {
      "cell_type": "markdown",
      "source": [
        "Crie um código que solicite uma frase e depois imprima a frase na tela."
      ],
      "metadata": {
        "id": "ba93TEhCCmhF"
      }
    },
    {
      "cell_type": "code",
      "source": [
        "frase = input('Digite uma frase: ')\n",
        "print(frase)"
      ],
      "metadata": {
        "id": "mYMmn21BCm_E"
      },
      "execution_count": null,
      "outputs": []
    },
    {
      "cell_type": "markdown",
      "source": [
        "Crie um código que solicite uma frase à pessoa usuária e imprima a mesma frase digitada mas com todas as letras maiúsculas."
      ],
      "metadata": {
        "id": "Yydht9m2Cxhw"
      }
    },
    {
      "cell_type": "code",
      "source": [
        "frase = input('Digite uma frase: ').upper()\n",
        "print(frase)"
      ],
      "metadata": {
        "id": "ny-phT1eCyzB"
      },
      "execution_count": null,
      "outputs": []
    },
    {
      "cell_type": "markdown",
      "source": [
        "Crie um código que solicite uma frase à pessoa usuária e imprima a mesma frase digitada mas com todas as letras minúsculas."
      ],
      "metadata": {
        "id": "RHbAS6t2C8NB"
      }
    },
    {
      "cell_type": "code",
      "source": [
        "frase = input('Digite uma frase: ').lower()\n",
        "print(frase)"
      ],
      "metadata": {
        "id": "pH6UGMAWC9ez"
      },
      "execution_count": null,
      "outputs": []
    },
    {
      "cell_type": "markdown",
      "source": [
        "Crie uma variável chamada “frase” e atribua a ela uma string de sua escolha. Em seguida, imprima a frase sem espaços em branco no início e no fim."
      ],
      "metadata": {
        "id": "lpC2n05MDDXq"
      }
    },
    {
      "cell_type": "code",
      "source": [
        "frase = '   The blood of the covenant is thicker than the water of the womb'\n",
        "frase.strip()\n",
        "print(frase)"
      ],
      "metadata": {
        "id": "yfleBP1wDD2I"
      },
      "execution_count": null,
      "outputs": []
    },
    {
      "cell_type": "markdown",
      "source": [
        "Crie um código que solicite uma frase à pessoa usuária e imprima a mesma frase sem espaços em branco no início e no fim."
      ],
      "metadata": {
        "id": "82r0NNCIDUh1"
      }
    },
    {
      "cell_type": "code",
      "source": [
        "frase = input('Digite uma frase: ').strip()\n",
        "print(frase)"
      ],
      "metadata": {
        "id": "wXVDSDtcDXL_"
      },
      "execution_count": null,
      "outputs": []
    },
    {
      "cell_type": "markdown",
      "source": [
        "Crie um código que solicite uma frase à pessoa usuária e imprima a mesma frase com todas as vogais “e” trocadas pela letra “f”."
      ],
      "metadata": {
        "id": "22Ss53prDcb5"
      }
    },
    {
      "cell_type": "code",
      "source": [
        "frase = input('Digite uma frase: ').replace('e', 'f')\n",
        "print(frase)"
      ],
      "metadata": {
        "id": "0RstAv0HDb81"
      },
      "execution_count": null,
      "outputs": []
    },
    {
      "cell_type": "markdown",
      "source": [
        "Crie um código que solicite uma frase à pessoa usuária e imprima a mesma frase com todas as vogais “a” trocadas pela caractere “@”."
      ],
      "metadata": {
        "id": "EQaIY9R3DhJI"
      }
    },
    {
      "cell_type": "code",
      "source": [
        "frase = input('Digite uma frase: ').replace('a', '@')\n",
        "print(frase)"
      ],
      "metadata": {
        "id": "xCTNl2VYDupr"
      },
      "execution_count": null,
      "outputs": []
    },
    {
      "cell_type": "markdown",
      "source": [
        "Crie um código que solicite uma frase à pessoa usuária e imprima a mesma frase com todas as consoantes “s” trocadas pelo caractere “$”."
      ],
      "metadata": {
        "id": "Wc40EINrDqWg"
      }
    },
    {
      "cell_type": "code",
      "source": [
        "frase = input('Digite uma frase: ').replace('s', '$')\n",
        "print(frase)"
      ],
      "metadata": {
        "id": "UsC2Z0uSD08m"
      },
      "execution_count": null,
      "outputs": []
    },
    {
      "cell_type": "markdown",
      "source": [
        "#### Estruturas condicionais"
      ],
      "metadata": {
        "id": "uW4e8bsaseNI"
      }
    },
    {
      "cell_type": "markdown",
      "source": [
        " Escreva um programa que peça à pessoa usuária para fornecer dois números e exibir o número maior."
      ],
      "metadata": {
        "id": "wJtJtV7OshRd"
      }
    },
    {
      "cell_type": "code",
      "source": [
        "num_1 = input('Digite o primeiro numero: ')\n",
        "num_2 = input('Digite o segundo numero: ')\n",
        "\n",
        "if num_1 < num_2:\n",
        "  print (num_1)\n",
        "else:\n",
        "  print(num_2)"
      ],
      "metadata": {
        "id": "9-bxYhlpsgnk"
      },
      "execution_count": null,
      "outputs": []
    },
    {
      "cell_type": "markdown",
      "source": [
        "Escreva um programa que solicite o percentual de crescimento de produção de uma empresa e informe se houve um crescimento (porcentagem positiva) ou decrescimento (porcentagem negativa)."
      ],
      "metadata": {
        "id": "1EHrgd5LtHGV"
      }
    },
    {
      "cell_type": "code",
      "source": [
        "per = float(input('Digite o percentual de produção da sua empresa: '))\n",
        "\n",
        "if per > 100:\n",
        "  print ('porcentagem positiva')\n",
        "else:\n",
        "  print('porcentagem negativa')"
      ],
      "metadata": {
        "id": "698iozHdtJEw"
      },
      "execution_count": null,
      "outputs": []
    },
    {
      "cell_type": "markdown",
      "source": [
        "Escreva um programa que determine se uma letra fornecida pela pessoa usuária é uma vogal ou consoante."
      ],
      "metadata": {
        "id": "x-Q0_txFtjrP"
      }
    },
    {
      "cell_type": "code",
      "source": [
        "letra = input('Digite uma letra: ')\n",
        "\n",
        "if letra.lower() in {'a', 'e', 'i', 'o', 'u'}:\n",
        "    print('Vogal')\n",
        "else:\n",
        "    print('Consoante')"
      ],
      "metadata": {
        "id": "5Ir4TV0Ntldy"
      },
      "execution_count": null,
      "outputs": []
    },
    {
      "cell_type": "markdown",
      "source": [
        "Escreva um programa que leia valores médios de preços de um modelo de carro por 3 anos consecutivos e exiba o valor mais alto e mais baixo entre esses três anos."
      ],
      "metadata": {
        "id": "ntOXThZZu5UN"
      }
    },
    {
      "cell_type": "code",
      "source": [
        "valor1 = float(input('Digite o primeiro valor: '))\n",
        "valor2 = float(input('Digite o segundo  valor: '))\n",
        "valor3 = float(input('Digite o terceiro valor: '))\n",
        "maior = 0\n",
        "if valor2 > valor1 and valor2 > valor3:\n",
        "  maior = valor2\n",
        "elif valor3 > valor1 and valor3 > valor2:\n",
        "  maior=valor3\n",
        "elif valor1 > valor3 and valor1 > valor2:\n",
        "  maior = valor1\n",
        "print(f'O maior valor é: {maior}')"
      ],
      "metadata": {
        "id": "5_RkY4Csu7KF"
      },
      "execution_count": null,
      "outputs": []
    },
    {
      "cell_type": "code",
      "source": [
        "valor1 = float(input('Digite o primeiro valor: '))\n",
        "valor2 = float(input('Digite o segundo valor: '))\n",
        "valor3 = float(input('Digite o terceiro valor: '))\n",
        "\n",
        "maior = valor1  # Assumimos que o primeiro é o maior inicialmente\n",
        "if valor2 > maior:\n",
        "    maior = valor2\n",
        "if valor3 > maior:\n",
        "    maior = valor3\n",
        "\n",
        "print(f'O maior valor é: {maior}')"
      ],
      "metadata": {
        "id": "E6plB__FxJRx"
      },
      "execution_count": null,
      "outputs": []
    },
    {
      "cell_type": "markdown",
      "source": [
        "Escreva um programa que pergunte sobre o preço de três produtos e indique qual é o produto mais barato para comprar."
      ],
      "metadata": {
        "id": "WNDYakkoxWAZ"
      }
    },
    {
      "cell_type": "code",
      "source": [
        "valor1 = float(input('Digite o primeiro valor: '))\n",
        "valor2 = float(input('Digite o segundo  valor: '))\n",
        "valor3 = float(input('Digite o terceiro valor: '))\n",
        "menor = 0\n",
        "if valor2 < valor1 and valor2 < valor3:\n",
        "  menor = valor2\n",
        "elif valor3 < valor1 and valor3 < valor2:\n",
        "  menor=valor3\n",
        "elif valor1 < valor3 and valor1 < valor2:\n",
        "  menor = valor1\n",
        "print(f'O menor valor é: {menor}')"
      ],
      "metadata": {
        "id": "_q8dF1INxZ6y"
      },
      "execution_count": null,
      "outputs": []
    },
    {
      "cell_type": "markdown",
      "source": [
        "Escreva um programa que leia três números e os exiba em ordem decrescente."
      ],
      "metadata": {
        "id": "PWSg55nuxseF"
      }
    },
    {
      "cell_type": "code",
      "source": [
        "valor1 = float(input('Digite o primeiro valor: '))\n",
        "valor2 = float(input('Digite o segundo valor: '))\n",
        "valor3 = float(input('Digite o terceiro valor: '))\n",
        "\n",
        "if valor1 >= valor2 >= valor3:\n",
        "    print(valor1, valor2, valor3)\n",
        "elif valor1 >= valor3 >= valor2:\n",
        "    print(valor1, valor3, valor2)\n",
        "elif valor2 >= valor1 >= valor3:\n",
        "    print(valor2, valor1, valor3)\n",
        "elif valor2 >= valor3 >= valor1:\n",
        "    print(valor2, valor3, valor1)\n",
        "elif valor3 >= valor1 >= valor2:\n",
        "    print(valor3, valor1, valor2)\n"
      ],
      "metadata": {
        "id": "DaQTqMqoxuYd"
      },
      "execution_count": null,
      "outputs": []
    },
    {
      "cell_type": "code",
      "source": [
        "valor1 = float(input('Digite o primeiro valor: '))\n",
        "valor2 = float(input('Digite o segundo valor: '))\n",
        "valor3 = float(input('Digite o terceiro valor: '))\n",
        "\n",
        "maior = max(valor1, valor2, valor3)\n",
        "menor = min(valor1, valor2, valor3)\n",
        "meio = (valor1 + valor2 + valor3) - maior - menor\n",
        "\n",
        "print(maior, meio, menor)"
      ],
      "metadata": {
        "id": "rngwrmOuzcHn"
      },
      "execution_count": null,
      "outputs": []
    },
    {
      "cell_type": "markdown",
      "source": [
        "Escreva um programa que pergunte em qual turno a pessoa usuária estuda (\"manhã\", \"tarde\" ou \"noite\") e exiba a mensagem \"Bom Dia!\", \"Boa Tarde!\", \"Boa Noite!\", ou \"Valor Inválido!\", conforme o caso."
      ],
      "metadata": {
        "id": "0fhpBCS-0jFQ"
      }
    },
    {
      "cell_type": "code",
      "source": [
        "turno = (input('Qual o seu turno? '))\n",
        "if turno.lower() == 'manhã':\n",
        "  print('Bom dia!')\n",
        "elif turno.lower() == 'tarde':\n",
        "  print('Boa tarde!')\n",
        "elif turno.lower() == 'noite':\n",
        "  print ('Boa noite')\n",
        "else:\n",
        "  print ('Valor Inválido!')"
      ],
      "metadata": {
        "id": "ykeflgq10ite"
      },
      "execution_count": null,
      "outputs": []
    },
    {
      "cell_type": "markdown",
      "source": [
        "Escreva um programa que peça um número inteiro à pessoa usuária e determine se ele é par ou ímpar. Dica: Você pode utilizar o operador módulo %."
      ],
      "metadata": {
        "id": "uKBXafRo1Udf"
      }
    },
    {
      "cell_type": "code",
      "source": [
        "num = int(input('Digite um numero: '))\n",
        "if num % 2 == 0:\n",
        "  print('Seu número é par!')\n",
        "else:\n",
        "  print('Seu número é ímpar')"
      ],
      "metadata": {
        "id": "ak_w2BNM1Uw7"
      },
      "execution_count": null,
      "outputs": []
    },
    {
      "cell_type": "markdown",
      "source": [
        "Escreva um programa que peça um número à pessoa usuária e informe se ele é inteiro ou decimal."
      ],
      "metadata": {
        "id": "ArfQnviR1tlD"
      }
    },
    {
      "cell_type": "code",
      "source": [
        "num = float(input('Digite um numero: '))\n",
        "if num % 1 == 0:\n",
        "  print('Seu número é inteiro!')\n",
        "else:\n",
        "  print('Seu número é decimal')"
      ],
      "metadata": {
        "id": "G6OTl-oP1uEQ"
      },
      "execution_count": null,
      "outputs": []
    },
    {
      "cell_type": "markdown",
      "source": [
        "Um programa deve ser escrito para ler dois números e, em seguida, perguntar à pessoa usuária qual operação ele deseja realizar. O resultado da operação deve incluir informações sobre o número - se é par ou ímpar, positivo ou negativo e inteiro ou decimal."
      ],
      "metadata": {
        "id": "IUDTObm5ucyR"
      }
    },
    {
      "cell_type": "code",
      "source": [
        "print ('Operaçãoes: \\n1- Par ou ímpar \\n2- Positivo ou negativo \\n3- inteiro ou decimal ')\n",
        "operacao = int(input('Qual operação deseja fazer? '))\n",
        "num1 = float(input('Digite o primeiro numero: '))\n",
        "num2 = float(input('Digite o segundo numero: '))\n",
        "if operacao == 1:\n",
        "  if num1 % 2 == 0:\n",
        "    print('Seu primeiro número é par!')\n",
        "  else:\n",
        "    print('Seu primeiro número é ímpar')\n",
        "  if num2 % 2 == 0:\n",
        "    print('Seu segundo número é par!')\n",
        "  else:\n",
        "    print('Seu segundo número é ímpar')\n",
        "elif operacao == 2:\n",
        "  if num1 > 0 :\n",
        "    print('Seu primeiro número é positivo!')\n",
        "  else:\n",
        "    print('Seu primeiro número é negativo!')\n",
        "  if num2 > 0:\n",
        "    print('Seu segundo número é positivo!')\n",
        "  else:\n",
        "    print('Seu segundo número é negativo!')\n",
        "elif operacao == 3:\n",
        "  if num1 % 1 == 0:\n",
        "    print('Seu primeiro número  é inteiro!')\n",
        "  else:\n",
        "    print('Seu primeiro número é decimal')\n",
        "  if num2 % 1 == 0:\n",
        "      print('Seu segundo número é inteiro!')\n",
        "  else:\n",
        "    print('Seu segundo número é decimal')"
      ],
      "metadata": {
        "id": "aaof0plTucKn"
      },
      "execution_count": null,
      "outputs": []
    },
    {
      "cell_type": "markdown",
      "source": [
        " Escreva um programa que peça à pessoa usuária três números que representam os lados de um triângulo. O programa deve informar se os valores podem ser utilizados para formar um triângulo e, caso afirmativo, se ele é equilátero, isósceles ou escaleno. Tenha em mente algumas dicas:\n",
        "\n",
        "* Três lados formam um triângulo quando a soma de quaisquer dois lados for maior que o terceiro;\n",
        "* Triângulo Equilátero: três lados iguais;\n",
        "* Triângulo Isósceles: quaisquer dois lados iguais;\n",
        "* Triângulo Escaleno: três lados diferentes."
      ],
      "metadata": {
        "id": "Bty3z_5TxaRh"
      }
    },
    {
      "cell_type": "code",
      "source": [
        "l1= float(input('Digite o primeiro lado: '))\n",
        "l2= float(input('Digite o segundo lado: '))\n",
        "l3= float(input('Digite o terceiro lado: '))\n",
        "\n",
        "if l1 <= 0 or l2 <= 0 or l3 <= 0:\n",
        "  print('Os lados devem ser valores positivos')\n",
        "elif (l1 + l2 <= l3) or (l1 + l3 <= l2) or (l2 + l3 <= l1):\n",
        "        print('Triângulo inválido')\n",
        "else:\n",
        "      print('Triângulo válido')\n",
        "if l1 == l2 == l3:\n",
        "  print('Equilátero')\n",
        "elif l1 == l2 or l1 == l3 or l2 == l3:\n",
        "  print('Isósceles')\n",
        "else:\n",
        "  print('Escaleno')"
      ],
      "metadata": {
        "id": "yDiJ3CHzxb9G",
        "colab": {
          "base_uri": "https://localhost:8080/"
        },
        "outputId": "19cf31f2-bc56-4230-a1cf-0996606eda0f"
      },
      "execution_count": 7,
      "outputs": [
        {
          "output_type": "stream",
          "name": "stdout",
          "text": [
            "Digite o primeiro lado: 7\n",
            "Digite o segundo lado: 8\n",
            "Digite o terceiro lado: 9\n",
            "Triângulo válido\n",
            "Escaleno\n"
          ]
        }
      ]
    },
    {
      "cell_type": "markdown",
      "source": [
        " Um estabelecimento está vendendo combustíveis com descontos variados. Para o etanol, se a quantidade comprada for até 15 litros, o desconto será de 2% por litro. Caso contrário, será de 4% por litro. Para o diesel, se a quantidade comprada for até 15 litros, o desconto será de 3% por litro. Caso contrário, será de 5% por litro. O preço do litro de diesel é  2,00\n",
        " e o preço do litro de etanol é  1,70. Escreva um programa que leia a quantidade de litros vendidos e o tipo de combustível (E para etanol e D para diesel) e calcule o valor a ser pago pelo cliente. Tenha em mente algumas dicas:\n",
        "\n",
        "* O do valor do desconto será a multiplicação entre preço do litro, quantidade de litros e o valor do desconto.\n",
        "* O valor a ser pago por um cliente será o resultado da multiplicação do preço do litro pela quantidade de litros menos o valor de desconto resultante do cálculo."
      ],
      "metadata": {
        "id": "ozUiqxkwxzwk"
      }
    },
    {
      "cell_type": "code",
      "source": [
        "comb = input('Digite a letra referente ao combustivel: \\nE: Etanol  \\nD: Diesel \\n').upper()\n",
        "qtd = float(input('Digite a quantidade em litros de combustível: '))\n",
        "preco = 0\n",
        "#etanol\n",
        "if comb =='E':\n",
        "  if qtd <= 15:\n",
        "    desconto = 1.7* qtd*.02\n",
        "    preco=  1.7*qtd - desconto\n",
        "  elif qtd > 15:\n",
        "    desconto = 1.7* qtd*.04\n",
        "    preco =  1.7*qtd - desconto\n",
        "# Diesel\n",
        "if comb =='D':\n",
        "  if qtd <= 15:\n",
        "    desconto = 2* qtd*.03\n",
        "    preco=  2*qtd - desconto\n",
        "  elif qtd > 15:\n",
        "    desconto = 2* qtd*.05\n",
        "    preco=  2*qtd - desconto\n",
        "\n",
        "\n",
        "preco"
      ],
      "metadata": {
        "id": "H1Ht2nMtx3sD",
        "colab": {
          "base_uri": "https://localhost:8080/"
        },
        "outputId": "a8b035b3-f089-4125-9f8c-2b9c9c845830"
      },
      "execution_count": 22,
      "outputs": [
        {
          "name": "stdout",
          "output_type": "stream",
          "text": [
            "Digite a letra referente ao combustivel: \n",
            "E: Etanol  \n",
            "D: Diesel \n",
            "D\n",
            "Digite a quantidade em litros de combustível: 30\n"
          ]
        },
        {
          "output_type": "execute_result",
          "data": {
            "text/plain": [
              "57.0"
            ]
          },
          "metadata": {},
          "execution_count": 22
        }
      ]
    },
    {
      "cell_type": "markdown",
      "source": [
        "Em uma empresa de venda de imóveis você precisa criar um código que analise os dados de vendas anuais para ajudar a diretoria na tomada de decisão. O código precisa coletar os dados de quantidade de venda durante os anos de 2022 e 2023 e fazer um cálculo de variação percentual. A partir do valor da variação, deve ser enviada às seguintes sugestões:\n",
        "\n",
        "* Para variação acima de 20%: bonificação para o time de vendas.\n",
        "* Para variação entre 2% e 20%: pequena bonificação para time de vendas.\n",
        "* Para variação entre 2% e -10%: planejamento de políticas de incentivo às vendas.\n",
        "* Para bonificações abaixo de -10%: corte de gastos."
      ],
      "metadata": {
        "id": "otLg3C8hx4BC"
      }
    },
    {
      "cell_type": "code",
      "source": [
        "ano_22 = float(input('Digite a quantidade de vendas de 2022: '))\n",
        "ano_23 = float(input('Digite a quantidade de vendas de 2023: '))\n",
        "\n",
        "variacao = (ano_23 - ano_22) / ano_22 * 100\n",
        "print(f'A variação foi de {variacao}%')\n",
        "if variacao >= 20:\n",
        "  print('Bonificação para o time de vendas')\n",
        "elif variacao < 20 and variacao >= 2:\n",
        "    print('Pequena bonificação para time de vendas')\n",
        "elif variacao < 2 and variacao >= -10:\n",
        "      print('Planejamento de políticas de incentivo às vendas.')\n",
        "elif variacao < -10:\n",
        "  print('Corte de gastos.')\n"
      ],
      "metadata": {
        "colab": {
          "base_uri": "https://localhost:8080/"
        },
        "id": "SvcO0kbKPg81",
        "outputId": "6fee821a-9b89-454e-f2d4-34d641b42a7a"
      },
      "execution_count": 54,
      "outputs": [
        {
          "output_type": "stream",
          "name": "stdout",
          "text": [
            "Digite a quantidade de vendas de 2022: 150\n",
            "Digite a quantidade de vendas de 2023: 155\n",
            "A variação foi de 3.3333333333333335% \n",
            "Pequena bonificação para time de vendas\n"
          ]
        }
      ]
    },
    {
      "cell_type": "markdown",
      "source": [
        "#### Estruturas de repetição"
      ],
      "metadata": {
        "id": "ZVeXP2-gyKSH"
      }
    },
    {
      "cell_type": "markdown",
      "source": [
        "Escreva um programa que peça dois números inteiros e imprima todos os números inteiros entre eles."
      ],
      "metadata": {
        "id": "Qmk1-C86yM5U"
      }
    },
    {
      "cell_type": "code",
      "source": [
        "num1 = float(input('Digite o primeiro número: '))\n",
        "num2 = float(input('Digite o segundo número: '))\n",
        "contador = 1\n",
        "diferenca = num1-num2\n",
        "diferenca2 = num2-num1\n",
        "\n",
        "if num1>num2:\n",
        "   while contador < diferenca:\n",
        "    num2 += 1\n",
        "    print (num2)\n",
        "    contador += 1\n",
        "elif num2>num1:\n",
        "   while contador < diferenca2:\n",
        "    num1 += 1\n",
        "    print (num1)\n",
        "    contador += 1\n",
        "else:\n",
        "  print('Os numeros são iguais')\n",
        "\n"
      ],
      "metadata": {
        "id": "lnxf3HpJyPZI",
        "colab": {
          "base_uri": "https://localhost:8080/"
        },
        "outputId": "430f0995-8ffd-4699-e145-f9c1101c472e"
      },
      "execution_count": 87,
      "outputs": [
        {
          "output_type": "stream",
          "name": "stdout",
          "text": [
            "Digite o primeiro número: 5\n",
            "Digite o segundo número: 5\n",
            "Os numeros são iguais\n"
          ]
        }
      ]
    },
    {
      "cell_type": "code",
      "source": [
        "num1 = float(input('Digite o primeiro número: '))\n",
        "num2 = float(input('Digite o segundo número: '))\n",
        "\n",
        "if num1 < num2:\n",
        "  inicio, fim = num1,num2\n",
        "else:\n",
        "  inicio, fim = num2, num1\n",
        "\n",
        "contador = inicio +1\n",
        "while contador < fim:\n",
        "  print (contador)\n",
        "  contador += 1"
      ],
      "metadata": {
        "colab": {
          "base_uri": "https://localhost:8080/"
        },
        "id": "VvR6npGxXT-P",
        "outputId": "a93841ce-a112-4a59-cb0a-19ec6f78a3ac"
      },
      "execution_count": 90,
      "outputs": [
        {
          "output_type": "stream",
          "name": "stdout",
          "text": [
            "Digite o primeiro número: 10\n",
            "Digite o segundo número: 5\n",
            "6.0\n",
            "7.0\n",
            "8.0\n",
            "9.0\n"
          ]
        }
      ]
    },
    {
      "cell_type": "markdown",
      "source": [
        "Escreva um programa para calcular quantos dias levará para a colônia de uma bactéria A ultrapassar ou igualar a colônia de uma bactéria B, com base nas taxas de crescimento de 3% e 1,5% respectivamente. Considere que a colônia A inicia com 4 elementos e a B com 10.\n",
        "\n"
      ],
      "metadata": {
        "id": "i7-WHfsJyP1y"
      }
    },
    {
      "cell_type": "code",
      "source": [],
      "metadata": {
        "id": "bjAbXbwqySLw"
      },
      "execution_count": null,
      "outputs": []
    },
    {
      "cell_type": "markdown",
      "source": [
        " Para tratar uma quantidade de 15 dados de avaliações de pessoas usuárias de um serviço da empresa, precisamos verificar se as notas são válidas. Então, escreva um programa que vai receber a nota de 0 a 5 de todos os dados e verificar se é um valor válido. Caso seja inserido uma nota acima de 5 ou abaixo de 0, repita até que a pessoa usuária insira um valor válido."
      ],
      "metadata": {
        "id": "0VaUTcIWyT-g"
      }
    },
    {
      "cell_type": "code",
      "source": [],
      "metadata": {
        "id": "3Qqqy6cQyUlD"
      },
      "execution_count": null,
      "outputs": []
    },
    {
      "cell_type": "markdown",
      "source": [
        "Desenvolva um programa que leia um conjunto indeterminado de temperaturas em Celsius e informe a média delas. A leitura deve ser encerrada ao ser enviado o valor -273°C."
      ],
      "metadata": {
        "id": "Zhz3RjgIyV96"
      }
    },
    {
      "cell_type": "code",
      "source": [],
      "metadata": {
        "id": "BL3ynbPJyWXw"
      },
      "execution_count": null,
      "outputs": []
    },
    {
      "cell_type": "markdown",
      "source": [
        "Desenvolva um programa que leia um conjunto indeterminado de temperaturas em Celsius e informe a média delas. A leitura deve ser encerrada ao ser enviado o valor -273°C."
      ],
      "metadata": {
        "id": "CIHh1ji6yXqp"
      }
    },
    {
      "cell_type": "code",
      "source": [],
      "metadata": {
        "id": "L9maVjNVyYD7"
      },
      "execution_count": null,
      "outputs": []
    },
    {
      "cell_type": "markdown",
      "source": [
        "Escreva um programa que gere a tabuada de um número inteiro de 1 a 10, de acordo com a escolha da pessoa usuária. Como exemplo, para o número 2, a tabuada deve ser mostrada no seguinte formato:\n"
      ],
      "metadata": {
        "id": "g3E5rR24yad2"
      }
    },
    {
      "cell_type": "code",
      "source": [
        "Tabuada do 2:\n",
        "2 x 1 = 2\n",
        "2 x 2 = 4\n",
        "[...]\n",
        "2 x 10 = 20"
      ],
      "metadata": {
        "id": "X8-y5yZmya71"
      },
      "execution_count": null,
      "outputs": []
    },
    {
      "cell_type": "code",
      "source": [],
      "metadata": {
        "id": "kEhh-LSIynzB"
      },
      "execution_count": null,
      "outputs": []
    },
    {
      "cell_type": "markdown",
      "source": [
        "Os números primos possuem várias aplicações dentro da Ciência de Dados em criptografia e segurança, por exemplo. Um número primo é aquele que é divisível apenas por um e por ele mesmo. Assim, faça um programa que peça um número inteiro e determine se ele é ou não um número primo."
      ],
      "metadata": {
        "id": "8OzUbI5nypf5"
      }
    },
    {
      "cell_type": "code",
      "source": [],
      "metadata": {
        "id": "giHX2Qemyqyo"
      },
      "execution_count": null,
      "outputs": []
    },
    {
      "cell_type": "markdown",
      "source": [
        "Vamos entender a distribuição de idades de pensionistas de uma empresa de previdência. Escreva um programa que leia as idades de uma quantidade não informada de clientes e mostre a distribuição em intervalos de [0-25], [26-50], [51-75] e [76-100]. Encerre a entrada de dados com um número negativo."
      ],
      "metadata": {
        "id": "SSXlxilqyfxR"
      }
    },
    {
      "cell_type": "code",
      "source": [],
      "metadata": {
        "id": "EV3J-RS6ytCx"
      },
      "execution_count": null,
      "outputs": []
    },
    {
      "cell_type": "markdown",
      "source": [
        "Em uma eleição para gerência em uma empresa com 20 pessoas colaboradoras, existem quatro candidatos(as). Escreva um programa que calcule o(a) vencedor(a) da eleição. A votação ocorreu da seguinte maneira:\n",
        "\n",
        "* Cada colaborador(a) votou em uma das quatro pessoas candidatas (que representamos pelos números 1, 2, 3 e 4).\n",
        "* Também foram contabilizados os votos nulos (representados pelo número 5) e os votos em branco (representados pelo número 6).\n",
        "\n",
        "Ao final da votação, o programa deve exibir o número total de votos para cada candidato(a), os nulos e os votos em branco. Além disso, deve calcular e exibir a porcentagem de votos nulos em relação ao total de votos e a porcentagem de votos em branco em relação ao total de votos."
      ],
      "metadata": {
        "id": "L6vEzMXsyulT"
      }
    },
    {
      "cell_type": "code",
      "source": [],
      "metadata": {
        "id": "tNb9_APwyvC8"
      },
      "execution_count": null,
      "outputs": []
    },
    {
      "cell_type": "markdown",
      "source": [
        "#### Estrutura de dados"
      ],
      "metadata": {
        "id": "u0ICzNAz1VwA"
      }
    },
    {
      "cell_type": "markdown",
      "source": [
        "Faça um programa que tenha a seguinte lista contendo os valores de gastos de uma empresa de papel [2172.54, 3701.35, 3518.09, 3456.61, 3249.38, 2840.82, 3891.45, 3075.26, 2317.64, 3219.08]. Com esses valores, faça um programa que calcule a média de gastos. Dica: use as funções built-in sum() e len()."
      ],
      "metadata": {
        "id": "E1R7XgPQ1boO"
      }
    },
    {
      "cell_type": "code",
      "source": [],
      "metadata": {
        "id": "_aW9qN6U1Yyf"
      },
      "execution_count": null,
      "outputs": []
    },
    {
      "cell_type": "markdown",
      "source": [
        "Com os mesmos dados da questão anterior, defina quantas compras foram realizadas acima de 3000 reais e calcule a porcentagem quanto ao total de compras."
      ],
      "metadata": {
        "id": "3YZS-RJo1cJG"
      }
    },
    {
      "cell_type": "code",
      "source": [],
      "metadata": {
        "id": "yVUfcxqd1eDL"
      },
      "execution_count": null,
      "outputs": []
    },
    {
      "cell_type": "markdown",
      "source": [
        "Faça um código que colete em uma lista 5 números inteiros quaisquer e imprima a lista. Exemplo: [1,4,7,2,4]."
      ],
      "metadata": {
        "id": "IxOttyUN1fQn"
      }
    },
    {
      "cell_type": "code",
      "source": [],
      "metadata": {
        "id": "IpXr8Mvf1f6b"
      },
      "execution_count": null,
      "outputs": []
    },
    {
      "cell_type": "markdown",
      "source": [
        "Colete novamente 5 inteiros e imprima a lista em ordem inversa à enviada."
      ],
      "metadata": {
        "id": "-83JPKY-1g-7"
      }
    },
    {
      "cell_type": "code",
      "source": [],
      "metadata": {
        "id": "ORxbaZKz1haX"
      },
      "execution_count": null,
      "outputs": []
    },
    {
      "cell_type": "markdown",
      "source": [
        "Faça um programa que, ao inserir um número qualquer, cria uma lista contendo todos os números primos entre 1 e o número digitado."
      ],
      "metadata": {
        "id": "a8AAUOXD1irE"
      }
    },
    {
      "cell_type": "code",
      "source": [],
      "metadata": {
        "id": "FiiUMqF51jDI"
      },
      "execution_count": null,
      "outputs": []
    },
    {
      "cell_type": "markdown",
      "source": [
        "Escreva um programa que peça uma data informando o dia, mês e ano e determine se ela é válida para uma análise."
      ],
      "metadata": {
        "id": "9oNVUbSa1kSf"
      }
    },
    {
      "cell_type": "code",
      "source": [],
      "metadata": {
        "id": "spQUTulk1kwX"
      },
      "execution_count": null,
      "outputs": []
    },
    {
      "cell_type": "markdown",
      "source": [
        "Para um estudo envolvendo o nível de multiplicação de bactérias em uma colônia, foi coletado o número de bactérias por dia (em milhares) e pode ser observado a seguir: [1.2, 2.1, 3.3, 5.0, 7.8, 11.3, 16.6, 25.1, 37.8, 56.9]. Tendo esses valores, faça um código que gere uma lista contendo o percentual de crescimento de bactérias por dia, comparando o número de bactérias em cada dia com o número de bactérias do dia anterior. Dica: para calcular o percentual de crescimento usamos a seguinte equação: 100 * (amostra_atual - amostra_passada) / (amostra_passada)."
      ],
      "metadata": {
        "id": "dEWvMMrJ1mZD"
      }
    },
    {
      "cell_type": "code",
      "source": [],
      "metadata": {
        "id": "sEs97KEa1nCm"
      },
      "execution_count": null,
      "outputs": []
    },
    {
      "cell_type": "markdown",
      "source": [
        "Para uma seleção de produtos alimentícios, precisamos separar o conjunto de IDs dados por números inteiros sabendo que os produtos com ID par são doces e os com ID ímpar são amargos. Monte um código que colete 10 IDs. Depois, calcule e mostre a quantidade de produtos doces e amargos."
      ],
      "metadata": {
        "id": "KH6r22ik1oOj"
      }
    },
    {
      "cell_type": "code",
      "source": [],
      "metadata": {
        "id": "aCGZh0zF1oo2"
      },
      "execution_count": null,
      "outputs": []
    },
    {
      "cell_type": "markdown",
      "source": [
        "Desenvolva um programa que informa a nota de um(a) aluno(a) de acordo com suas respostas. Ele deve pedir a resposta desse(a) aluno(a) para cada questão e é preciso verificar se a resposta foi igual ao gabarito. Cada questão vale um ponto e existem as alternativas A, B, C ou D."
      ],
      "metadata": {
        "id": "rZrV8_AE1p9x"
      }
    },
    {
      "cell_type": "code",
      "source": [
        "Gabarito da prova:\n",
        "01 - D\n",
        "02 - A\n",
        "03 - C\n",
        "04 - B\n",
        "05 - A\n",
        "06 - D\n",
        "07 - C\n",
        "08 - C\n",
        "09 - A\n",
        "10 - B"
      ],
      "metadata": {
        "id": "VAp8dh_k1qb7"
      },
      "execution_count": null,
      "outputs": []
    },
    {
      "cell_type": "code",
      "source": [],
      "metadata": {
        "id": "YBOutRd11sBA"
      },
      "execution_count": null,
      "outputs": []
    },
    {
      "cell_type": "markdown",
      "source": [
        "Um instituto de meteorologia deseja fazer um estudo de temperatura média de cada mês do ano. Para isso, você precisa fazer um código que colete e armazene essas temperaturas médias em uma lista. Depois, calcule a média anual das temperaturas e mostre todas as temperaturas acima da média anual e em que mês elas ocorreram, mostrando os meses por extenso (Janeiro, Fevereiro, etc.)."
      ],
      "metadata": {
        "id": "2pwhus_u1tFe"
      }
    },
    {
      "cell_type": "code",
      "source": [],
      "metadata": {
        "id": "iMvStdPJ1teO"
      },
      "execution_count": null,
      "outputs": []
    },
    {
      "cell_type": "markdown",
      "source": [
        " Uma empresa de e-commerce está interessada em analisar as vendas dos seus produtos. Os dados das vendas foram armazenados em um dicionário:"
      ],
      "metadata": {
        "id": "6q18CBk11urH"
      }
    },
    {
      "cell_type": "code",
      "source": [
        "{'Produto A': 300, 'Produto B': 80, 'Produto C': 60,\n",
        " 'Produto D': 200, 'Produto E': 250, 'Produto F': 30}"
      ],
      "metadata": {
        "id": "hAR1zqhP1vBo"
      },
      "execution_count": null,
      "outputs": []
    },
    {
      "cell_type": "markdown",
      "source": [
        "Escreva um código que calcule o total de vendas e o produto mais vendido."
      ],
      "metadata": {
        "id": "5nTnJ_-T1zVu"
      }
    },
    {
      "cell_type": "code",
      "source": [],
      "metadata": {
        "id": "2y3OZ5Vi100M"
      },
      "execution_count": null,
      "outputs": []
    },
    {
      "cell_type": "markdown",
      "source": [
        "Uma pesquisa de mercado foi feita para decidir qual design de marca infantil mais agrada as crianças. A pesquisa foi feita e o votos computados podem ser observados abaixo:"
      ],
      "metadata": {
        "id": "2AROwY_N10GR"
      }
    },
    {
      "cell_type": "code",
      "source": [
        "'''\n",
        "Tabela de votos da marca\n",
        "Design 1 - 1334 votos\n",
        "Design 2 - 982 votos\n",
        "Design 3 - 1751 votos\n",
        "Design 4 - 210 votos\n",
        "Design 5 - 1811 votos\n",
        "'''"
      ],
      "metadata": {
        "id": "OuptkU7F13QJ"
      },
      "execution_count": null,
      "outputs": []
    },
    {
      "cell_type": "markdown",
      "source": [
        "Adapte os dados fornecidos para uma estrutura de dicionário. A partir dele, informe o design vencedor e a porcentagem de votos recebidos."
      ],
      "metadata": {
        "id": "FR_EBO5D15MH"
      }
    },
    {
      "cell_type": "code",
      "source": [],
      "metadata": {
        "id": "Kp4qhIp816V1"
      },
      "execution_count": null,
      "outputs": []
    },
    {
      "cell_type": "markdown",
      "source": [
        " As pessoas colaboradoras de um setor da empresa que você trabalha vão receber um abono correspondente a 10% do salário devido ao ótimo desempenho do time. O setor financeiro solicitou sua ajuda para a verificação das consequências financeiras que esse abono irá gerar nos recursos. Assim, foi encaminhada para você uma lista com os salários que receberão o abono: [1172, 1644, 2617, 5130, 5532, 6341, 6650, 7238, 7685, 7782, 7903]. O abono de cada colaborador(a) não pode ser inferior a 200. Em código, transforme cada um dos salários em chaves de um dicionário e o abono de cada salário no elemento. Depois, informe o total de gastos com o abono, quantos(as) colaboradores(as) receberam o abono mínimo e qual o maior valor de abono fornecido."
      ],
      "metadata": {
        "id": "-cvze6p-17xf"
      }
    },
    {
      "cell_type": "code",
      "source": [],
      "metadata": {
        "id": "XSVirx8L18Wv"
      },
      "execution_count": null,
      "outputs": []
    },
    {
      "cell_type": "markdown",
      "source": [
        "Uma equipe de cientistas de dados está estudando a diversidade biológica em uma floresta. A equipe fez a coleta de informações sobre o número de espécies de plantas e animais em cada área dessa floresta e armazenou essas informações em um dicionário. Nele, a chave descreve a área dos dados e os valores nas listas correspondem às espécies de plantas e animais nas áreas, respectivamente."
      ],
      "metadata": {
        "id": "g9ZH1P6B19t1"
      }
    },
    {
      "cell_type": "code",
      "source": [
        "{'Área Norte': [2819, 7236],\n",
        " 'Área Leste': [1440, 9492],\n",
        " 'Área Sul': [5969, 7496],\n",
        " 'Área Oeste': [14446, 49688],\n",
        " 'Área Centro': [22558, 45148]}"
      ],
      "metadata": {
        "id": "IchkGE4Q1-Ha"
      },
      "execution_count": null,
      "outputs": []
    },
    {
      "cell_type": "markdown",
      "source": [
        "Escreva um código para calcular a média de espécies por área e identificar a área com a maior diversidade biológica. Dica: use as funções built-in sum() e len()."
      ],
      "metadata": {
        "id": "Pm6tawX32AJM"
      }
    },
    {
      "cell_type": "code",
      "source": [],
      "metadata": {
        "id": "1WJEv_OE1_5m"
      },
      "execution_count": null,
      "outputs": []
    },
    {
      "cell_type": "markdown",
      "source": [
        " O setor de RH da sua empresa te pediu uma ajuda para analisar as idades de colaboradores(as) de 4 setores da empresa. Para isso, foram fornecidos os seguintes dados:\n"
      ],
      "metadata": {
        "id": "JMM-BQf22Awc"
      }
    },
    {
      "cell_type": "code",
      "source": [
        "{'Setor A': [22, 26, 30, 30, 35, 38, 40, 56, 57, 65],\n",
        " 'Setor B': [22, 24, 26, 33, 41, 49, 50, 54, 60, 64],\n",
        " 'Setor C': [23, 26, 26, 29, 34, 35, 36, 41, 52, 56],\n",
        " 'Setor D': [19, 20, 25, 27, 34, 39, 42, 44, 50, 65]}"
      ],
      "metadata": {
        "id": "mpZFJkwj2CoD"
      },
      "execution_count": null,
      "outputs": []
    },
    {
      "cell_type": "markdown",
      "source": [
        "Sabendo que cada setor tem 10 colaboradores(as), construa um código que calcule a média de idade de cada setor, a idade média geral entre todos os setores e quantas pessoas estão acima da idade média geral."
      ],
      "metadata": {
        "id": "UYWjIOmt2FUS"
      }
    }
  ]
}